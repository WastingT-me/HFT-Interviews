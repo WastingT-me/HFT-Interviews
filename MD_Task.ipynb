{
  "nbformat": 4,
  "nbformat_minor": 0,
  "metadata": {
    "colab": {
      "provenance": [],
      "collapsed_sections": [
        "YF4A92qTC2Z0",
        "yJOJJe7wXGf3",
        "07cT_jg1XTus"
      ]
    },
    "kernelspec": {
      "name": "python3",
      "display_name": "Python 3"
    },
    "language_info": {
      "name": "python"
    }
  },
  "cells": [
    {
      "cell_type": "markdown",
      "source": [
        "#Data Load"
      ],
      "metadata": {
        "id": "RvXsbGnByTtI"
      }
    },
    {
      "cell_type": "code",
      "source": [
        "from google.colab import drive\n",
        "drive.mount('/content/drive')"
      ],
      "metadata": {
        "colab": {
          "base_uri": "https://localhost:8080/"
        },
        "outputId": "fd4ad638-2491-47eb-ab29-ea254ed7e583",
        "id": "gBUuy6gtyTtI"
      },
      "execution_count": null,
      "outputs": [
        {
          "output_type": "stream",
          "name": "stdout",
          "text": [
            "Mounted at /content/drive\n"
          ]
        }
      ]
    },
    {
      "cell_type": "markdown",
      "source": [
        "#Libs"
      ],
      "metadata": {
        "id": "o5ty7Zo-yYTx"
      }
    },
    {
      "cell_type": "code",
      "source": [
        "def import_modules():\n",
        "    global utils, pd, np, plt, datetime, timedelta, gc, signal, glob, os, warnings\n",
        "    import pandas as pd\n",
        "    import numpy as np\n",
        "    import gc\n",
        "    import signal\n",
        "    import glob\n",
        "    import os\n",
        "    import utils\n",
        "    import warnings"
      ],
      "metadata": {
        "id": "q0-2q6V1D6mo"
      },
      "execution_count": 1,
      "outputs": []
    },
    {
      "cell_type": "code",
      "source": [
        "import_modules()"
      ],
      "metadata": {
        "id": "GlUnUesBBsYY"
      },
      "execution_count": 2,
      "outputs": []
    },
    {
      "cell_type": "code",
      "source": [
        "pd.set_option('display.max_columns', None)\n",
        "warnings.filterwarnings(\"ignore\")"
      ],
      "metadata": {
        "id": "cbndSrj_KDNJ"
      },
      "execution_count": 3,
      "outputs": []
    },
    {
      "cell_type": "markdown",
      "source": [
        "#Wrapper"
      ],
      "metadata": {
        "id": "rO0de6YcfxAj"
      }
    },
    {
      "cell_type": "code",
      "source": [
        "def clear_globals():\n",
        "    \"\"\"Очистка глобальных переменных\"\"\"\n",
        "    keep_vars = ['utils', 'import_modules', 'gc', 'columns', 'path_to_dir', 'clear_globals']\n",
        "    for var in list(globals().keys()):\n",
        "        if var not in keep_vars:\n",
        "            del globals()[var]\n",
        "\n",
        "    import_modules()\n",
        "    pd.set_option('display.max_columns', None)\n",
        "    warnings.filterwarnings(\"ignore\")"
      ],
      "metadata": {
        "id": "3pLTGcj7EHYD"
      },
      "execution_count": 4,
      "outputs": []
    },
    {
      "cell_type": "code",
      "source": [
        "path_to_dir = '/content/drive/MyDrive/Quant/dataset_test'\n",
        "\n",
        "columns = ['ServerTimestamp [epoch]',\n",
        "           'MarketTimestamp [epoch]',\n",
        "           'ServerTimestamp [datatime, us]',\n",
        "           'MarketTimestamp [datatime,us]',\n",
        "           'Mdtype',\n",
        "           '[price;qty;nborders] ask 0',\n",
        "           '[price;qty;nborders] ask 1',\n",
        "           '[price;qty;nborders] ask 2',\n",
        "           '[price;qty;nborders] ask 3',\n",
        "           '[price;qty;nborders] ask 4',\n",
        "           '[price;qty;nborders] ask 5',\n",
        "           '[price;qty;nborders] ask 6',\n",
        "           '[price;qty;nborders] ask 7',\n",
        "           '[price;qty;nborders] ask 8',\n",
        "           '[price;qty;nborders] ask 9',\n",
        "           'M',\n",
        "           '[price;qty;nborders] bid 0',\n",
        "           '[price;qty;nborders] bid 1',\n",
        "           '[price;qty;nborders] bid 2',\n",
        "           '[price;qty;nborders] bid 3',\n",
        "           '[price;qty;nborders] bid 4',\n",
        "           '[price;qty;nborders] bid 5',\n",
        "           '[price;qty;nborders] bid 6',\n",
        "           '[price;qty;nborders] bid 7',\n",
        "           '[price;qty;nborders] bid 8',\n",
        "           '[price;qty;nborders] bid 9',\n",
        "           'Obflag',\n",
        "           'ftflagMSBid ',\n",
        "           'ftflagMSAsk ',\n",
        "           'ftflagTLSell ',\n",
        "           'ftflagTLBuy ',\n",
        "           'Stream ',\n",
        "           'Revision ']"
      ],
      "metadata": {
        "id": "pCtyp6qpk79t"
      },
      "execution_count": 5,
      "outputs": []
    },
    {
      "cell_type": "code",
      "source": [
        "for filename in os.listdir(path_to_dir):\n",
        "    file_path = os.path.join(path_to_dir, filename)\n",
        "\n",
        "    if os.path.isfile(file_path) and filename.endswith('.gz'):\n",
        "        try:\n",
        "            print(f\"Processing file: {file_path}\")\n",
        "\n",
        "            df = pd.read_csv(file_path, compression='gzip', names=columns, low_memory=False)\n",
        "            df = utils.common_data_preparation(df)\n",
        "\n",
        "            time = file_path.split('/')[-1].split('.')[1]\n",
        "\n",
        "            utils.first_task(df, time)\n",
        "            utils.second_task(df, time)\n",
        "\n",
        "            utils.clear_globals()\n",
        "\n",
        "        except Exception as e:\n",
        "            print(f\"Error processing file {file_path}\")\n",
        "            utils.clear_globals()"
      ],
      "metadata": {
        "id": "e9vXRXdhz_WK"
      },
      "execution_count": null,
      "outputs": []
    }
  ]
}